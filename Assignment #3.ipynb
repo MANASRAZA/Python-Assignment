{
 "cells": [
  {
   "cell_type": "code",
   "execution_count": 2,
   "metadata": {},
   "outputs": [
    {
     "name": "stdout",
     "output_type": "stream",
     "text": [
      "enter first  operator 7\n",
      "enter second operator 2\n",
      "enter operator **\n",
      "49.0 answer\n"
     ]
    }
   ],
   "source": [
    "val1 = float(input('enter first  operator ' ))\n",
    "val2 = float(input('enter second operator ' ))\n",
    "operator = input('enter operator ' )\n",
    " \n",
    "if operator == '+' :\n",
    "    val = val1 + val2\n",
    "    print(val, 'answer')\n",
    "     \n",
    "elif operator == '-' :\n",
    "    val = val1 - val2\n",
    "    print(val, 'answer')\n",
    "    \n",
    "elif operator == '*' :\n",
    "    val = val1 * val2\n",
    "    print(val, 'answer') \n",
    "    \n",
    "elif operator == '/' :\n",
    "    val = val1 / val2\n",
    "    print(val, 'answer')\n",
    "\n",
    "elif operator == '**' :\n",
    "    val = val1 ** val2\n",
    "    print(val, 'answer')\n",
    "\n",
    "else:\n",
    "        print('enter correct operator')"
   ]
  },
  {
   "cell_type": "code",
   "execution_count": 7,
   "metadata": {},
   "outputs": [
    {
     "name": "stdout",
     "output_type": "stream",
     "text": [
      "Check if any numeric value exists in list  using for loop  \n",
      "not Exists\n",
      "Element Exists\n"
     ]
    }
   ],
   "source": [
    "list = [  \" ali \", 2 , \"rehan\" , \"rohan\"] \n",
    "  \n",
    "print(\"Check if any numeric value exists in list  using for loop  \") \n",
    "  \n",
    "for i in list : \n",
    "    if(i == 2) : \n",
    "        print (\"Element Exists\") \n",
    "        break \n",
    "    else :\n",
    "        print(\"not Exists\")"
   ]
  },
  {
   "cell_type": "code",
   "execution_count": 15,
   "metadata": {},
   "outputs": [
    {
     "name": "stdout",
     "output_type": "stream",
     "text": [
      "{'Name': 'Ali', 'Roll_no': '7787', 'Address': 'st_ paul', 'Language': 'English'}\n"
     ]
    }
   ],
   "source": [
    "student_data = {\n",
    "    \"Name\" : \"Ali\",\n",
    "    \"Roll_no\" : \"7787\",\n",
    "    \"Address\" : \"st_ paul\"\n",
    "}\n",
    "student_data [\"Language\"]  =  \"English\"\n",
    "print(student_data )"
   ]
  },
  {
   "cell_type": "code",
   "execution_count": 17,
   "metadata": {},
   "outputs": [
    {
     "name": "stdout",
     "output_type": "stream",
     "text": [
      "700\n"
     ]
    }
   ],
   "source": [
    "Dictonary = {'val1':200,'val2':200,'val3':300}\n",
    "print(sum(Dictonary.values()))\n",
    "\n"
   ]
  },
  {
   "cell_type": "code",
   "execution_count": 37,
   "metadata": {},
   "outputs": [
    {
     "name": "stdout",
     "output_type": "stream",
     "text": [
      "duplicate_values :  [2, 4]\n"
     ]
    }
   ],
   "source": [
    "list = [ 1,2,3,4,2,5,6,7,4,8,9]\n",
    "duplicate_value = []\n",
    "unique_value = {}\n",
    "for x in list:\n",
    "   if x not in unique_value:\n",
    "      unique_value[x] = 1\n",
    "   else:\n",
    "      if unique_value[x] == 1:\n",
    "         duplicate_value.append(x)\n",
    "      unique_value[x] += 1\n",
    "print(\"duplicate_values : \" ,duplicate_value)"
   ]
  },
  {
   "cell_type": "code",
   "execution_count": 41,
   "metadata": {},
   "outputs": [
    {
     "name": "stdout",
     "output_type": "stream",
     "text": [
      "Key is present in the dictionary\n"
     ]
    }
   ],
   "source": [
    "dictonary = {1: \"ali\", 2: \"umair\", 3: \"farooq\", 4: \"ramiz\"}\n",
    "def is_key_present(x):\n",
    " if x in dictonary:\n",
    "      print('Key is present in the dictionary')\n",
    " else:\n",
    "      print('Key is not present in the dictionary')\n",
    "is_key_present(3)\n"
   ]
  }
 ],
 "metadata": {
  "kernelspec": {
   "display_name": "Python 3",
   "language": "python",
   "name": "python3"
  },
  "language_info": {
   "codemirror_mode": {
    "name": "ipython",
    "version": 3
   },
   "file_extension": ".py",
   "mimetype": "text/x-python",
   "name": "python",
   "nbconvert_exporter": "python",
   "pygments_lexer": "ipython3",
   "version": "3.7.4"
  }
 },
 "nbformat": 4,
 "nbformat_minor": 2
}
