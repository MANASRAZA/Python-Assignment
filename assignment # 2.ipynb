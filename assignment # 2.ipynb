{
 "cells": [
  {
   "cell_type": "code",
   "execution_count": 2,
   "metadata": {},
   "outputs": [
    {
     "name": "stdout",
     "output_type": "stream",
     "text": [
      "Enter marks of the first subject: 99\n",
      "Enter marks of the second subject: 98\n",
      "Enter marks of the third subject: 78\n",
      "Enter marks of the fourth subject: 67\n",
      "Enter marks of the fifth subject: 56\n",
      "398\n",
      "79.6\n",
      "Grade: A \n"
     ]
    }
   ],
   "source": [
    "sub1=int(input(\"Enter marks of the first subject: \"))\n",
    "sub2=int(input(\"Enter marks of the second subject: \"))\n",
    "sub3=int(input(\"Enter marks of the third subject: \"))\n",
    "sub4=int(input(\"Enter marks of the fourth subject: \"))\n",
    "sub5=int(input(\"Enter marks of the fifth subject: \"))\n",
    "total= (sub1 + sub2 + sub3 + sub4 + sub5)\n",
    "print(total)\n",
    "avg=(sub1 + sub2 + sub3 + sub4 + sub5) / 5\n",
    "print(avg)\n",
    "if avg >= 80 and avg <= 100 :\n",
    "    print(\"Grade: A+\")\n",
    "elif avg >= 70 and avg < 80 :\n",
    "    print(\"Grade: A \")\n",
    "elif avg >= 60 and avg < 70 :\n",
    "    print(\"Grade: B \")\n",
    "elif avg >= 50 and avg < 60 :\n",
    "    print(\"Grade: C\")\n",
    "elif avg >= 40 and avg < 50 :\n",
    "    print(\"Grade: D \")    \n",
    "else :\n",
    "    print(\"FAIL \")\n"
   ]
  },
  {
   "cell_type": "code",
   "execution_count": 4,
   "metadata": {},
   "outputs": [
    {
     "name": "stdout",
     "output_type": "stream",
     "text": [
      "Enter a number: 8\n",
      " even number.\n"
     ]
    }
   ],
   "source": [
    "num = int(input(\"Enter a number: \"))\n",
    "mod = num % 2\n",
    "if mod > 0:\n",
    "    print(\" odd number.\")\n",
    "else:\n",
    "    print(\" even number.\")"
   ]
  },
  {
   "cell_type": "code",
   "execution_count": 6,
   "metadata": {},
   "outputs": [
    {
     "name": "stdout",
     "output_type": "stream",
     "text": [
      "the lenght is  5\n"
     ]
    }
   ],
   "source": [
    "a = len([1,3,4,5,6])\n",
    "print(\"the lenght is \",a)"
   ]
  },
  {
   "cell_type": "code",
   "execution_count": 8,
   "metadata": {},
   "outputs": [
    {
     "name": "stdout",
     "output_type": "stream",
     "text": [
      "the sum of the given list is : 47\n"
     ]
    }
   ],
   "source": [
    "list = [2,3,4,5,6,7,8,6,6]\n",
    "total = sum(list)\n",
    "print(\"the sum of the given list is :\",total)"
   ]
  },
  {
   "cell_type": "code",
   "execution_count": 9,
   "metadata": {},
   "outputs": [
    {
     "name": "stdout",
     "output_type": "stream",
     "text": [
      "the largest number from the list is : 88\n"
     ]
    }
   ],
   "source": [
    "list = [33,44,66,77,88]\n",
    "print(\"the largest number from the list is :\",max(list))\n"
   ]
  },
  {
   "cell_type": "code",
   "execution_count": 2,
   "metadata": {},
   "outputs": [
    {
     "name": "stdout",
     "output_type": "stream",
     "text": [
      "[1, 1, 2, 3]"
     ]
    }
   ],
   "source": [
    "a = [1, 1, 2, 3, 5, 8, 13, 21, 34, 55, 89]\n",
    "i = []\n",
    "for n in a :\n",
    "    if n < 5 : i.append(n)\n",
    "print(i,end=\"\")"
   ]
  }
 ],
 "metadata": {
  "kernelspec": {
   "display_name": "Python 3",
   "language": "python",
   "name": "python3"
  },
  "language_info": {
   "codemirror_mode": {
    "name": "ipython",
    "version": 3
   },
   "file_extension": ".py",
   "mimetype": "text/x-python",
   "name": "python",
   "nbconvert_exporter": "python",
   "pygments_lexer": "ipython3",
   "version": "3.7.4"
  }
 },
 "nbformat": 4,
 "nbformat_minor": 2
}
